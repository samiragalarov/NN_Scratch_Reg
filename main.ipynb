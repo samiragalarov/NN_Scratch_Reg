{
 "cells": [
  {
   "cell_type": "markdown",
   "id": "8d9ac54f",
   "metadata": {},
   "source": [
    "# Neural network regularization"
   ]
  },
  {
   "cell_type": "markdown",
   "id": "c83f5ef2",
   "metadata": {},
   "source": [
    "<b>Regularization is a technique which makes slight modifications to the learning algorithm such that the model generalizes better. This in turn improves the model’s performance on the unseen data as well.\n",
    "<b>"
   ]
  },
  {
   "cell_type": "markdown",
   "id": "30965102",
   "metadata": {},
   "source": [
    "<h1>Different Regularization Techniques<h1>\n",
    "    \n",
    "    1. L2 & L1 regularization\n",
    "    2. Dropout"
   ]
  },
  {
   "cell_type": "markdown",
   "id": "9b9d491a",
   "metadata": {},
   "source": [
    "<b>L2 & L1 regularization<b>"
   ]
  },
  {
   "cell_type": "markdown",
   "id": "36dd8d72",
   "metadata": {},
   "source": [
    "<img src='https://cdn.analyticsvidhya.com/wp-content/uploads/2018/04/Screen-Shot-2018-04-04-at-1.59.57-AM.png' />"
   ]
  },
  {
   "cell_type": "markdown",
   "id": "9fffaf84",
   "metadata": {},
   "source": [
    "<b>Dropout<b>"
   ]
  },
  {
   "cell_type": "markdown",
   "id": "3e8dc12d",
   "metadata": {},
   "source": [
    "<img src='https://cdn.analyticsvidhya.com/wp-content/uploads/2018/04/Screen-Shot-2018-04-03-at-11.52.06-PM.png' />"
   ]
  },
  {
   "cell_type": "code",
   "execution_count": null,
   "id": "31321401",
   "metadata": {},
   "outputs": [],
   "source": [
    "import numpy as np\n",
    "import matplotlib.pyplot as plt\n",
    "import random"
   ]
  },
  {
   "cell_type": "code",
   "execution_count": 3,
   "id": "51a4ae53",
   "metadata": {},
   "outputs": [],
   "source": [
    "X_train = np.loadtxt('train_X.csv', delimiter = ',').T\n",
    "Y_train = np.loadtxt('train_label.csv', delimiter = ',').T\n",
    "X_test = np.loadtxt('test_X.csv', delimiter = ',').T\n",
    "Y_test = np.loadtxt('test_label.csv', delimiter = ',').T"
   ]
  },
  {
   "attachments": {},
   "cell_type": "markdown",
   "id": "0e0f3314",
   "metadata": {},
   "source": [
    "<img src='./images/Screenshot_20230203_112620.png'/>"
   ]
  },
  {
   "attachments": {},
   "cell_type": "markdown",
   "id": "2568a7b4",
   "metadata": {},
   "source": [
    "<img src='./images/Screenshot_20230203_112637.png'/>"
   ]
  },
  {
   "attachments": {},
   "cell_type": "markdown",
   "id": "be9e2bed",
   "metadata": {},
   "source": [
    "<img src='./images/Screenshot_20230203_112651.png' />"
   ]
  },
  {
   "attachments": {},
   "cell_type": "markdown",
   "id": "9457c623",
   "metadata": {},
   "source": [
    "<img src='./images/Screenshot_20230203_112651.png' />"
   ]
  },
  {
   "cell_type": "code",
   "execution_count": 5,
   "id": "0ba5ba6f",
   "metadata": {},
   "outputs": [],
   "source": [
    "def tanh(x):\n",
    "    return np.tanh(x)\n",
    "\n",
    "def softmax(x):\n",
    "    expX = np.exp(x)\n",
    "    return expX/np.sum(expX, axis = 0)\n",
    "\n",
    "def derivative_tanh(x):\n",
    "    return (1 - np.power(np.tanh(x), 2))"
   ]
  },
  {
   "cell_type": "code",
   "execution_count": 7,
   "id": "ea1955b5",
   "metadata": {},
   "outputs": [],
   "source": [
    "def NN(X,Y,iter = 150 ,l1_reg = False , dropout = False, lr= 0.01 , lm= 0.7 , num_hidden = 1000 , keep_rate = 0.85):\n",
    "    \n",
    "    #initilze parametrs\n",
    "    n_x = X.shape[0]\n",
    "    n_y = Y.shape[0]\n",
    "     \n",
    "    w1 = np.random.randn(num_hidden, n_x)*0.01\n",
    "    b1 = np.zeros((num_hidden, 1))\n",
    "    \n",
    "    w2 = np.random.randn(n_y, num_hidden)*0.01\n",
    "    b2 = np.zeros((n_y, 1))\n",
    "    \n",
    "    m = X.shape[1]\n",
    "\n",
    "    for i in  range(iter):\n",
    "        #forward_propagation\n",
    "        z1 = np.dot(w1, X) + b1\n",
    "        a1 = tanh(z1)\n",
    "        \n",
    "        D1 = None\n",
    "        \n",
    "        # Dropout regularization\n",
    "        if dropout == True:\n",
    "            D1 = np.random.rand(a1.shape[0], a1.shape[1])\n",
    "            D1 = D1 < keep_rate\n",
    "            a1 = a1 * D1\n",
    "            a1 = a1/keep_rate\n",
    "    \n",
    "        z2 = np.dot(w2, a1) + b2\n",
    "        a2 = softmax(z2)\n",
    "        \n",
    "        #back_propagation\n",
    "        dz2 = (a2 - Y)\n",
    "        dw2 = (1/m)*np.dot(dz2, a1.T)\n",
    "        \n",
    "        # l2 regularization\n",
    "        if l1_reg == True : dw2 + (lm*w2)/m\n",
    "        db2 = (1/m)*np.sum(dz2, axis = 1, keepdims = True)\n",
    "        \n",
    "        dz1 = None\n",
    "        \n",
    "        if dropout == True:\n",
    "            da1 = np.dot(w2.T,dz2)\n",
    "            da1 = da1 * D1\n",
    "            da1 = da1 / keep_rate\n",
    "            dz1 = np.multiply(da1, np.int64(a1 > 0))\n",
    "        else:   \n",
    "            dz1 = (1/m)*np.dot(w2.T, dz2)*derivative_tanh(a1)\n",
    "\n",
    "        dw1 = (1/m)*np.dot(dz1, X.T)\n",
    "        if l1_reg == True : dw1 + (lm*w1)/m\n",
    "        db1 = (1/m)*np.sum(dz1, axis = 1, keepdims = True)\n",
    "        \n",
    "        w1 = w1 - lr*dw1\n",
    "        b1 = b1 - lr*db1\n",
    "        w2 = w2 - lr*dw2\n",
    "        b2 = b2 - lr*db2\n",
    "          \n",
    "    return [w1,b1,w2,b2]\n",
    "    "
   ]
  },
  {
   "cell_type": "code",
   "execution_count": 8,
   "id": "7c1fc4c7",
   "metadata": {},
   "outputs": [],
   "source": [
    "def Predict(X_train, Y_train , X_test, Y_test):\n",
    "    par = NN(X_train,Y_train ,l1_reg = True, dropout= False)\n",
    "    \n",
    "    \n",
    "    z1 = np.dot(par[0], X_test) + par[1]\n",
    "    a1 = tanh(z1)\n",
    "    \n",
    "    z2 = np.dot(par[2], a1) + par[3]\n",
    "    a2 = softmax(z2)\n",
    "    \n",
    "    a_last = np.argmax(a2, 0)\n",
    "    \n",
    "    labels = np.argmax(Y_test, 0)\n",
    "    \n",
    "    acc = np.mean(a_last == labels)*100\n",
    "    print(acc)\n",
    "    print(a_last)\n",
    "    return a_last\n"
   ]
  },
  {
   "cell_type": "code",
   "execution_count": 9,
   "id": "512b413d",
   "metadata": {
    "scrolled": true
   },
   "outputs": [
    {
     "name": "stdout",
     "output_type": "stream",
     "text": [
      "85.42857142857143\n",
      "[0 0 0 8 0 0 0 0 0 0 0 0 0 0 0 6 0 3 0 0 0 0 0 0 0 0 0 0 0 0 0 1 1 1 1 1 1\n",
      " 1 1 1 1 1 1 1 1 1 1 1 1 1 1 1 1 1 1 1 1 1 1 1 1 1 1 1 1 3 1 5 1 1 1 1 1 1\n",
      " 1 2 4 2 2 2 2 2 2 2 2 2 2 2 4 7 2 2 2 8 2 2 1 2 2 2 2 2 2 3 3 3 3 3 3 3 3\n",
      " 3 3 3 3 9 9 3 3 3 5 2 3 9 3 3 1 5 3 3 3 3 3 3 3 2 3 3 3 1 3 3 2 3 3 3 8 3\n",
      " 3 3 8 4 4 4 4 4 4 4 6 4 4 4 4 0 9 4 4 4 4 4 4 0 4 4 4 4 4 4 4 4 4 2 4 4 4\n",
      " 4 5 5 5 5 5 5 5 5 5 3 5 5 5 5 5 8 5 5 8 5 5 5 5 5 5 2 3 3 5 3 6 6 6 0 6 6\n",
      " 6 6 6 6 0 0 0 6 6 6 6 6 6 6 6 6 6 5 6 7 7 8 7 7 7 7 7 7 7 7 7 7 2 7 7 7 7\n",
      " 7 7 7 2 9 7 7 2 7 7 7 7 7 7 7 7 7 7 7 8 8 8 0 8 8 8 8 8 9 8 8 8 8 8 8 8 8\n",
      " 8 8 8 8 9 8 8 8 8 8 8 3 8 9 7 9 9 9 9 9 9 9 9 9 9 9 9 9 9 9 9 9 9 9 9 7 9\n",
      " 9 9 9 9 9 9 7 9 9 9 9 9 9 9 9 9 9]\n"
     ]
    }
   ],
   "source": [
    "pr = Predict(X_train, Y_train , X_test, Y_test)    "
   ]
  },
  {
   "cell_type": "code",
   "execution_count": 14,
   "id": "b2ebfab1",
   "metadata": {},
   "outputs": [
    {
     "data": {
      "image/png": "[encoded data removed]",
      "text/plain": [
       "<Figure size 432x288 with 1 Axes>"
      ]
     },
     "metadata": {
      "needs_background": "light"
     },
     "output_type": "display_data"
    },
    {
     "name": "stdout",
     "output_type": "stream",
     "text": [
      "7\n"
     ]
    },
    {
     "data": {
      "image/png": "[encoded data removed]",
      "text/plain": [
       "<Figure size 432x288 with 1 Axes>"
      ]
     },
     "metadata": {
      "needs_background": "light"
     },
     "output_type": "display_data"
    },
    {
     "name": "stdout",
     "output_type": "stream",
     "text": [
      "1\n"
     ]
    },
    {
     "data": {
      "image/png": "[encoded data removed]",
      "text/plain": [
       "<Figure size 432x288 with 1 Axes>"
      ]
     },
     "metadata": {
      "needs_background": "light"
     },
     "output_type": "display_data"
    },
    {
     "name": "stdout",
     "output_type": "stream",
     "text": [
      "9\n"
     ]
    },
    {
     "data": {
      "image/png": "[encoded data removed]",
      "text/plain": [
       "<Figure size 432x288 with 1 Axes>"
      ]
     },
     "metadata": {
      "needs_background": "light"
     },
     "output_type": "display_data"
    },
    {
     "name": "stdout",
     "output_type": "stream",
     "text": [
      "5\n"
     ]
    },
    {
     "data": {
      "image/png": "[encoded data removed]",
      "text/plain": [
       "<Figure size 432x288 with 1 Axes>"
      ]
     },
     "metadata": {
      "needs_background": "light"
     },
     "output_type": "display_data"
    },
    {
     "name": "stdout",
     "output_type": "stream",
     "text": [
      "2\n"
     ]
    }
   ],
   "source": [
    "for i in range(5):\n",
    "    index = random.randrange(0, X_test.shape[1])\n",
    "    \n",
    "    plt.imshow(X_test[:, index].reshape(28, 28), cmap = 'gray')\n",
    "    plt.show()\n",
    "    print(pr[index])"
   ]
  },
  {
   "cell_type": "code",
   "execution_count": 15,
   "id": "17976b2f",
   "metadata": {},
   "outputs": [
    {
     "data": {
      "text/plain": [
       "(784, 350)"
      ]
     },
     "execution_count": 15,
     "metadata": {},
     "output_type": "execute_result"
    }
   ],
   "source": [
    "a=X_test[: ,5].reshape(28,28)\n",
    "a.shape\n",
    "b = X_test[: , 0].reshape(784 ,1)\n",
    "b.shape\n",
    "X_test.shape"
   ]
  },
  {
   "cell_type": "code",
   "execution_count": null,
   "id": "c76b70d1",
   "metadata": {},
   "outputs": [],
   "source": []
  }
 ],
 "metadata": {
  "kernelspec": {
   "display_name": "Python 3 (ipykernel)",
   "language": "python",
   "name": "python3"
  },
  "language_info": {
   "codemirror_mode": {
    "name": "ipython",
    "version": 3
   },
   "file_extension": ".py",
   "mimetype": "text/x-python",
   "name": "python",
   "nbconvert_exporter": "python",
   "pygments_lexer": "ipython3",
   "version": "3.9.12"
  },
  "vscode": {
   "interpreter": {
    "hash": "edfc2c65b6ad8be0b1c86e108804c9dd97fb937a8ba289b931553fa8dcc5616d"
   }
  }
 },
 "nbformat": 4,
 "nbformat_minor": 5
}
